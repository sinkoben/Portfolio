{
 "cells": [
  {
   "cell_type": "markdown",
   "metadata": {},
   "source": [
    "#### Benjamin Sinko"
   ]
  },
  {
   "cell_type": "markdown",
   "metadata": {},
   "source": [
    "# Compartmental Model of Covid-19"
   ]
  },
  {
   "cell_type": "markdown",
   "metadata": {},
   "source": [
    "### Background\n",
    "The SIR model assumes a static population (thus no births or deaths) divided into three mutually exclusive groups: those susceptible to the disease ($S$), those infected with the disease ($I$), and those recovered with immunity from the disease ($R$). \n",
    "\n",
    "This model is clearly not applicable to all possible epidemics: there may be non-zero births and deaths, people getting re-infected, ect. All these factors should be taken into account by more complex models, which are beyond the modeling capability and skills covered up to this point in  CMSE 201.\n",
    "\n",
    "The SIR model consists of three  ordinary differential equations, parameterized by two growth factors β and γ:\n",
    "\n",
    "$$\n",
    "\\begin{array}{l}\n",
    "\\frac{d S}{d t}=-\\frac{\\beta I S}{N} \\\\\n",
    "\\frac{d I}{d t}=\\frac{\\beta I S}{N}-\\gamma I \\\\\n",
    "\\frac{d R}{d t}=\\gamma I\n",
    "\\end{array}\n",
    "$$\n",
    "\n",
    "Here $N$ is total size of the population, and since each of $S$, $I$ and $R$ represent the number of people in mutually exclusive groups, we should have $S+I+R=N$.\n",
    "\n",
    "Here we are going to use the SIR model to fit the COVID-19 curve in Italy, which means we are going to find the best values of $\\beta$ and $\\gamma$ to model the exisiting cases as a function of time,  and then predict the emergence of future  cases."
   ]
  },
  {
   "cell_type": "markdown",
   "metadata": {},
   "source": [
    "### 1. Load and inspect the data\n",
    "\n",
    "The data in question comes from the World Health Organization (WHO), and it is used to predict the cases and deaths of COVID-19 around the world. The data has  information for  new cases, new deaths, cumulative cases and cumulative deaths for all the countries from 01/03/2020 until now."
   ]
  },
  {
   "cell_type": "markdown",
   "metadata": {},
   "source": [
    "&#9989;&nbsp; **Question 1: (2 points)** Load the provided data `WHO-COVID-19-global-data.csv` using Pandas, and  then  display the last 15 rows of the resulting data frame."
   ]
  },
  {
   "cell_type": "code",
   "execution_count": 108,
   "metadata": {},
   "outputs": [],
   "source": [
    "import pandas as pd\n",
    "import numpy as np\n",
    "import datetime\n",
    "import matplotlib.pyplot as plt"
   ]
  },
  {
   "cell_type": "code",
   "execution_count": 109,
   "metadata": {},
   "outputs": [
    {
     "data": {
      "text/html": [
       "<div>\n",
       "<style scoped>\n",
       "    .dataframe tbody tr th:only-of-type {\n",
       "        vertical-align: middle;\n",
       "    }\n",
       "\n",
       "    .dataframe tbody tr th {\n",
       "        vertical-align: top;\n",
       "    }\n",
       "\n",
       "    .dataframe thead th {\n",
       "        text-align: right;\n",
       "    }\n",
       "</style>\n",
       "<table border=\"1\" class=\"dataframe\">\n",
       "  <thead>\n",
       "    <tr style=\"text-align: right;\">\n",
       "      <th></th>\n",
       "      <th>Date_reported</th>\n",
       "      <th>Country_code</th>\n",
       "      <th>Country</th>\n",
       "      <th>WHO_region</th>\n",
       "      <th>New_cases</th>\n",
       "      <th>Cumulative_cases</th>\n",
       "      <th>New_deaths</th>\n",
       "      <th>Cumulative_deaths</th>\n",
       "    </tr>\n",
       "  </thead>\n",
       "  <tbody>\n",
       "    <tr>\n",
       "      <th>73428</th>\n",
       "      <td>2020-10-26</td>\n",
       "      <td>ZW</td>\n",
       "      <td>Zimbabwe</td>\n",
       "      <td>AFRO</td>\n",
       "      <td>7</td>\n",
       "      <td>8276</td>\n",
       "      <td>1</td>\n",
       "      <td>237</td>\n",
       "    </tr>\n",
       "    <tr>\n",
       "      <th>73429</th>\n",
       "      <td>2020-10-27</td>\n",
       "      <td>ZW</td>\n",
       "      <td>Zimbabwe</td>\n",
       "      <td>AFRO</td>\n",
       "      <td>27</td>\n",
       "      <td>8303</td>\n",
       "      <td>5</td>\n",
       "      <td>242</td>\n",
       "    </tr>\n",
       "    <tr>\n",
       "      <th>73430</th>\n",
       "      <td>2020-10-28</td>\n",
       "      <td>ZW</td>\n",
       "      <td>Zimbabwe</td>\n",
       "      <td>AFRO</td>\n",
       "      <td>12</td>\n",
       "      <td>8315</td>\n",
       "      <td>0</td>\n",
       "      <td>242</td>\n",
       "    </tr>\n",
       "    <tr>\n",
       "      <th>73431</th>\n",
       "      <td>2020-10-29</td>\n",
       "      <td>ZW</td>\n",
       "      <td>Zimbabwe</td>\n",
       "      <td>AFRO</td>\n",
       "      <td>5</td>\n",
       "      <td>8320</td>\n",
       "      <td>0</td>\n",
       "      <td>242</td>\n",
       "    </tr>\n",
       "    <tr>\n",
       "      <th>73432</th>\n",
       "      <td>2020-10-30</td>\n",
       "      <td>ZW</td>\n",
       "      <td>Zimbabwe</td>\n",
       "      <td>AFRO</td>\n",
       "      <td>1</td>\n",
       "      <td>8321</td>\n",
       "      <td>0</td>\n",
       "      <td>242</td>\n",
       "    </tr>\n",
       "    <tr>\n",
       "      <th>73433</th>\n",
       "      <td>2020-10-31</td>\n",
       "      <td>ZW</td>\n",
       "      <td>Zimbabwe</td>\n",
       "      <td>AFRO</td>\n",
       "      <td>41</td>\n",
       "      <td>8362</td>\n",
       "      <td>0</td>\n",
       "      <td>242</td>\n",
       "    </tr>\n",
       "    <tr>\n",
       "      <th>73434</th>\n",
       "      <td>2020-11-01</td>\n",
       "      <td>ZW</td>\n",
       "      <td>Zimbabwe</td>\n",
       "      <td>AFRO</td>\n",
       "      <td>5</td>\n",
       "      <td>8367</td>\n",
       "      <td>1</td>\n",
       "      <td>243</td>\n",
       "    </tr>\n",
       "    <tr>\n",
       "      <th>73435</th>\n",
       "      <td>2020-11-02</td>\n",
       "      <td>ZW</td>\n",
       "      <td>Zimbabwe</td>\n",
       "      <td>AFRO</td>\n",
       "      <td>7</td>\n",
       "      <td>8374</td>\n",
       "      <td>0</td>\n",
       "      <td>243</td>\n",
       "    </tr>\n",
       "    <tr>\n",
       "      <th>73436</th>\n",
       "      <td>2020-11-03</td>\n",
       "      <td>ZW</td>\n",
       "      <td>Zimbabwe</td>\n",
       "      <td>AFRO</td>\n",
       "      <td>15</td>\n",
       "      <td>8389</td>\n",
       "      <td>2</td>\n",
       "      <td>245</td>\n",
       "    </tr>\n",
       "    <tr>\n",
       "      <th>73437</th>\n",
       "      <td>2020-11-04</td>\n",
       "      <td>ZW</td>\n",
       "      <td>Zimbabwe</td>\n",
       "      <td>AFRO</td>\n",
       "      <td>21</td>\n",
       "      <td>8410</td>\n",
       "      <td>1</td>\n",
       "      <td>246</td>\n",
       "    </tr>\n",
       "    <tr>\n",
       "      <th>73438</th>\n",
       "      <td>2020-11-05</td>\n",
       "      <td>ZW</td>\n",
       "      <td>Zimbabwe</td>\n",
       "      <td>AFRO</td>\n",
       "      <td>17</td>\n",
       "      <td>8427</td>\n",
       "      <td>2</td>\n",
       "      <td>248</td>\n",
       "    </tr>\n",
       "    <tr>\n",
       "      <th>73439</th>\n",
       "      <td>2020-11-06</td>\n",
       "      <td>ZW</td>\n",
       "      <td>Zimbabwe</td>\n",
       "      <td>AFRO</td>\n",
       "      <td>16</td>\n",
       "      <td>8443</td>\n",
       "      <td>0</td>\n",
       "      <td>248</td>\n",
       "    </tr>\n",
       "    <tr>\n",
       "      <th>73440</th>\n",
       "      <td>2020-11-07</td>\n",
       "      <td>ZW</td>\n",
       "      <td>Zimbabwe</td>\n",
       "      <td>AFRO</td>\n",
       "      <td>28</td>\n",
       "      <td>8471</td>\n",
       "      <td>2</td>\n",
       "      <td>250</td>\n",
       "    </tr>\n",
       "    <tr>\n",
       "      <th>73441</th>\n",
       "      <td>2020-11-08</td>\n",
       "      <td>ZW</td>\n",
       "      <td>Zimbabwe</td>\n",
       "      <td>AFRO</td>\n",
       "      <td>0</td>\n",
       "      <td>8471</td>\n",
       "      <td>0</td>\n",
       "      <td>250</td>\n",
       "    </tr>\n",
       "    <tr>\n",
       "      <th>73442</th>\n",
       "      <td>2020-11-09</td>\n",
       "      <td>ZW</td>\n",
       "      <td>Zimbabwe</td>\n",
       "      <td>AFRO</td>\n",
       "      <td>60</td>\n",
       "      <td>8531</td>\n",
       "      <td>3</td>\n",
       "      <td>253</td>\n",
       "    </tr>\n",
       "  </tbody>\n",
       "</table>\n",
       "</div>"
      ],
      "text/plain": [
       "      Date_reported  Country_code   Country  WHO_region   New_cases  \\\n",
       "73428    2020-10-26            ZW  Zimbabwe        AFRO           7   \n",
       "73429    2020-10-27            ZW  Zimbabwe        AFRO          27   \n",
       "73430    2020-10-28            ZW  Zimbabwe        AFRO          12   \n",
       "73431    2020-10-29            ZW  Zimbabwe        AFRO           5   \n",
       "73432    2020-10-30            ZW  Zimbabwe        AFRO           1   \n",
       "73433    2020-10-31            ZW  Zimbabwe        AFRO          41   \n",
       "73434    2020-11-01            ZW  Zimbabwe        AFRO           5   \n",
       "73435    2020-11-02            ZW  Zimbabwe        AFRO           7   \n",
       "73436    2020-11-03            ZW  Zimbabwe        AFRO          15   \n",
       "73437    2020-11-04            ZW  Zimbabwe        AFRO          21   \n",
       "73438    2020-11-05            ZW  Zimbabwe        AFRO          17   \n",
       "73439    2020-11-06            ZW  Zimbabwe        AFRO          16   \n",
       "73440    2020-11-07            ZW  Zimbabwe        AFRO          28   \n",
       "73441    2020-11-08            ZW  Zimbabwe        AFRO           0   \n",
       "73442    2020-11-09            ZW  Zimbabwe        AFRO          60   \n",
       "\n",
       "        Cumulative_cases   New_deaths   Cumulative_deaths  \n",
       "73428               8276            1                 237  \n",
       "73429               8303            5                 242  \n",
       "73430               8315            0                 242  \n",
       "73431               8320            0                 242  \n",
       "73432               8321            0                 242  \n",
       "73433               8362            0                 242  \n",
       "73434               8367            1                 243  \n",
       "73435               8374            0                 243  \n",
       "73436               8389            2                 245  \n",
       "73437               8410            1                 246  \n",
       "73438               8427            2                 248  \n",
       "73439               8443            0                 248  \n",
       "73440               8471            2                 250  \n",
       "73441               8471            0                 250  \n",
       "73442               8531            3                 253  "
      ]
     },
     "execution_count": 109,
     "metadata": {},
     "output_type": "execute_result"
    }
   ],
   "source": [
    "# Put your code here\n",
    "C19  = pd.read_csv(\"WHO-COVID-19-global-data.csv\")\n",
    "C19.tail(15)"
   ]
  },
  {
   "cell_type": "markdown",
   "metadata": {},
   "source": [
    "### 2. Visualize the data\n",
    "\n",
    "&#9989;&nbsp; **Question 2: (4 points)**: Select all the rows with `Country_code==\"IT\"` and plot the **daily new Covid-19 cases in Italy**.\n",
    "\n",
    "Hints: \n",
    "1. To correctly select the column with the specified `Country_code`, you might want to use `data['Country_code']` from `data.columns`. Similarly, you can use `[\"New_cases\"]` to select the new cases.\n",
    "2. Use `reset_index` to get days after 2020-01-03 (the first day in the data)."
   ]
  },
  {
   "cell_type": "code",
   "execution_count": 143,
   "metadata": {},
   "outputs": [
    {
     "data": {
      "text/plain": [
       "0        0\n",
       "1        0\n",
       "2        0\n",
       "3        0\n",
       "4        0\n",
       "      ... \n",
       "95    3599\n",
       "96    3039\n",
       "97    3836\n",
       "98    4204\n",
       "99    3951\n",
       "Name:  New_cases, Length: 100, dtype: int64"
      ]
     },
     "execution_count": 143,
     "metadata": {},
     "output_type": "execute_result"
    },
    {
     "data": {
      "image/png": "[encoded data removed]",
      "text/plain": [
       "<Figure size 432x288 with 1 Axes>"
      ]
     },
     "metadata": {
      "needs_background": "light"
     },
     "output_type": "display_data"
    }
   ],
   "source": [
    "# Put your code here\n",
    "country = 'IT'\n",
    "is_country = C19[' Country_code'] == country\n",
    "daily = C19[' New_cases']\n",
    "daily_IT = daily[is_country]\n",
    "daily_IT.reset_index(drop=True, inplace=True)\n",
    "plt.plot(daily_IT,color='red')\n",
    "plt.xlabel('Days')\n",
    "plt.ylabel('Cases')\n",
    "plt.title('Italy Daily COVID-19 Cases')\n",
    "daily_IT.head(100)"
   ]
  },
  {
   "cell_type": "markdown",
   "metadata": {},
   "source": [
    "### 3. Solve the equations and plot the model vs data\n",
    "\n",
    "&#9989;&nbsp; **Question 3: (8 points)** Assume that $\\beta=13$,  $\\gamma=12.5$, and that the total population of Italy is 60,432,485 (wikipedia). On day 50 of the outbreak in Italy there were 14 new cases, so we have $I(50)=14$, $S(50)=60432471$ and $R(50)=0$. Now let's solve the initial value problem in the range  [50,200), as we are only planning to fit the first wave of the COVID-19 outbreak.\n",
    "\n",
    "**Solve the intial value problem based on the equations given above**, and plot the curve of the **predicted daily new cases $I$** together with **the real observed daily new cases** in the time range from Day 50 to Day 200."
   ]
  },
  {
   "cell_type": "code",
   "execution_count": 146,
   "metadata": {},
   "outputs": [],
   "source": [
    "# Put your code here\n",
    "from scipy.integrate import solve_ivp\n",
    "\n",
    "b = 13\n",
    "g = 12.5\n",
    "def SIR(time, current_state):\n",
    "    \n",
    "    susceptible = current_state[0]\n",
    "    infected = current_state[1]\n",
    "    recovered = current_state[2]\n",
    "    N = susceptible+infected+recovered\n",
    "    \n",
    "    susceptible_dot = -b*infected*susceptible/N\n",
    "    infectious_dot = (b*infected*susceptible/N) - g*infected\n",
    "    recovered_dot = g*infected\n",
    "    \n",
    "    return [susceptible_dot, infectious_dot, recovered_dot]\n",
    "\n",
    "\n",
    "\n",
    "\n",
    "initial_conditions = [60432471,14,0]\n",
    "time = np.arange(50,200)\n",
    "\n",
    "result = solve_ivp(SIR, (50,200), initial_conditions, t_eval = time)\n",
    "\n",
    "susceptible = result.y[0]\n",
    "infectious = result.y[1]\n",
    "recovered = result.y[2]"
   ]
  },
  {
   "cell_type": "code",
   "execution_count": 147,
   "metadata": {},
   "outputs": [
    {
     "data": {
      "text/plain": [
       "<matplotlib.legend.Legend at 0x7f2d2ad82950>"
      ]
     },
     "execution_count": 147,
     "metadata": {},
     "output_type": "execute_result"
    },
    {
     "data": {
      "image/png": "[encoded data removed]",
      "text/plain": [
       "<Figure size 432x288 with 1 Axes>"
      ]
     },
     "metadata": {
      "needs_background": "light"
     },
     "output_type": "display_data"
    }
   ],
   "source": [
    "daily_IT.to_list()\n",
    "plt.plot(daily_IT[50:201],color='red',label='Real Data')\n",
    "plt.plot(time,infectious,label='Predicted')\n",
    "plt.xlabel('Days')\n",
    "plt.ylabel('Cases')\n",
    "plt.title('Italy Daily New COVID-19 Cases')\n",
    "plt.legend()"
   ]
  },
  {
   "cell_type": "code",
   "execution_count": 158,
   "metadata": {},
   "outputs": [],
   "source": [
    "daily_IT = daily_IT[50:200]"
   ]
  },
  {
   "cell_type": "markdown",
   "metadata": {},
   "source": [
    "### 4. Model the data and predict  future new COVID-19 cases\n",
    "\n",
    "&#9989;&nbsp; **Question 4: (8 points)**: Modeling the COVID-19 data. By solving the intial value problem (abstracted into equations above), we can estimate the infected cases based on a given $\\beta$ and $\\gamma$. Since we have the observed data (the number of new cases over time), now we want to know the values of $\\beta$ and $\\gamma$ that best describe or predict our data. \n",
    "\n",
    "**Find optimal $\\beta$ and $\\gamma$ describing the covid data**,  re-do the calculation of predicted COVID-19 cases with these optimized parameters, and plot the new predicted curve  together with the original data.\n",
    "\n",
    "#### hint:\n",
    "1. Write a function with an input of a list [beta,gamma] which can take any $\\beta$ and $\\gamma$ values, and with an output as the difference between the estimated infected cases and the real infected cases (for example, the sum of squared differences or the least square difference).\n",
    "2. Use `scipy.optimize.minimize` to find the optimal values of $\\beta$ and $\\gamma$."
   ]
  },
  {
   "cell_type": "code",
   "execution_count": 152,
   "metadata": {},
   "outputs": [
    {
     "data": {
      "text/plain": [
       "      fun: 2.2825982814815407e-20\n",
       " hess_inv: array([[1, 0],\n",
       "       [0, 1]])\n",
       "      jac: array([1.52033266e-08, 1.45989958e-08])\n",
       "  message: 'Optimization terminated successfully.'\n",
       "     nfev: 9\n",
       "      nit: 1\n",
       "     njev: 3\n",
       "   status: 0\n",
       "  success: True\n",
       "        x: array([12.75, 12.75])"
      ]
     },
     "execution_count": 152,
     "metadata": {},
     "output_type": "execute_result"
    }
   ],
   "source": [
    "# Put your code here\n",
    "from scipy.optimize import minimize\n",
    "\n",
    "\n",
    "def dif(lst):\n",
    "    squares = (lst[0]-lst[1])**2\n",
    "    return np.sum(squares)\n",
    "\n",
    "lst = [daily_IT,infectious,]\n",
    "\n",
    "x0=[13,12.5]\n",
    "\n",
    "res = minimize(dif, x0)\n",
    "res"
   ]
  },
  {
   "cell_type": "code",
   "execution_count": 163,
   "metadata": {},
   "outputs": [
    {
     "data": {
      "text/plain": [
       "[<matplotlib.lines.Line2D at 0x7f2d2584c890>]"
      ]
     },
     "execution_count": 163,
     "metadata": {},
     "output_type": "execute_result"
    },
    {
     "data": {
      "image/png": "[encoded data removed]",
      "text/plain": [
       "<Figure size 432x288 with 1 Axes>"
      ]
     },
     "metadata": {
      "needs_background": "light"
     },
     "output_type": "display_data"
    }
   ],
   "source": [
    "b = 12.75\n",
    "g = 12.75\n",
    "def SIR(time, current_state):\n",
    "    \n",
    "    susceptible = current_state[0]\n",
    "    infected = current_state[1]\n",
    "    recovered = current_state[2]\n",
    "    N = susceptible+infected+recovered\n",
    "    \n",
    "    susceptible_dot = -b*infected*susceptible/N\n",
    "    infectious_dot = (b*infected*susceptible/N) - g*infected\n",
    "    recovered_dot = g*infected\n",
    "    \n",
    "    return [susceptible_dot, infectious_dot, recovered_dot]\n",
    "\n",
    "\n",
    "\n",
    "\n",
    "initial_conditions = [60432471,14,0]\n",
    "time = np.arange(50,200)\n",
    "\n",
    "result = solve_ivp(SIR, (50,200), initial_conditions, t_eval = time)\n",
    "\n",
    "\n",
    "infectious = result.y[1]\n",
    "plt.plot(time,infectious,label='Predicted')"
   ]
  },
  {
   "cell_type": "code",
   "execution_count": 159,
   "metadata": {},
   "outputs": [
    {
     "data": {
      "text/plain": [
       "<matplotlib.legend.Legend at 0x7f2d259dbdd0>"
      ]
     },
     "execution_count": 159,
     "metadata": {},
     "output_type": "execute_result"
    },
    {
     "data": {
      "image/png": "[encoded data removed]",
      "text/plain": [
       "<Figure size 432x288 with 1 Axes>"
      ]
     },
     "metadata": {
      "needs_background": "light"
     },
     "output_type": "display_data"
    }
   ],
   "source": [
    "plt.plot(daily_IT,color='red',label='Real Data')\n",
    "plt.plot(time,infectious,label='Predicted')\n",
    "plt.xlabel('Days')\n",
    "plt.ylabel('Cases')\n",
    "plt.title('Italy Daily New COVID-19 Cases')\n",
    "plt.legend()"
   ]
  },
  {
   "cell_type": "markdown",
   "metadata": {},
   "source": [
    "&#169; Copyright 2020, [Department of Computational Mathematics, Science and Engineering](https://cmse.msu.edu) at Michigan State University."
   ]
  }
 ],
 "metadata": {
  "kernelspec": {
   "display_name": "Python 3",
   "language": "python",
   "name": "python3"
  },
  "language_info": {
   "codemirror_mode": {
    "name": "ipython",
    "version": 3
   },
   "file_extension": ".py",
   "mimetype": "text/x-python",
   "name": "python",
   "nbconvert_exporter": "python",
   "pygments_lexer": "ipython3",
   "version": "3.7.3"
  }
 },
 "nbformat": 4,
 "nbformat_minor": 4
}
